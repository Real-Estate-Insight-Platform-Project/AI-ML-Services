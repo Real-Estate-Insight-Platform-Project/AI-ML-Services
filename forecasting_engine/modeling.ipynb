{
 "cells": [
  {
   "cell_type": "code",
   "execution_count": 1,
   "id": "ae5701be",
   "metadata": {},
   "outputs": [],
   "source": [
    "import pandas as pd\n",
    "import numpy as np"
   ]
  },
  {
   "cell_type": "code",
   "execution_count": 2,
   "id": "d412e86c",
   "metadata": {},
   "outputs": [],
   "source": [
    "pd.set_option('display.max_columns', None)"
   ]
  },
  {
   "cell_type": "code",
   "execution_count": 3,
   "id": "caa3d279",
   "metadata": {},
   "outputs": [],
   "source": [
    "df = pd.read_csv(\"data\\State_lagged.csv\")"
   ]
  },
  {
   "cell_type": "code",
   "execution_count": 5,
   "id": "ac29d63a",
   "metadata": {},
   "outputs": [
    {
     "data": {
      "text/plain": [
       "array(['Alaska', 'Alabama', 'Arkansas', 'Arizona', 'California',\n",
       "       'Colorado', 'Connecticut', 'District of Columbia', 'Delaware',\n",
       "       'Florida', 'Georgia', 'Hawaii', 'Iowa', 'Idaho', 'Illinois',\n",
       "       'Indiana', 'Kansas', 'Kentucky', 'Louisiana', 'Massachusetts',\n",
       "       'Maryland', 'Maine', 'Michigan', 'Minnesota', 'Missouri',\n",
       "       'Mississippi', 'Montana', 'North Carolina', 'North Dakota',\n",
       "       'Nebraska', 'New Hampshire', 'New Jersey', 'New Mexico', 'Nevada',\n",
       "       'New York', 'Ohio', 'Oklahoma', 'Oregon', 'Pennsylvania',\n",
       "       'Rhode Island', 'South Carolina', 'South Dakota', 'Tennessee',\n",
       "       'Texas', 'Utah', 'Virginia', 'Vermont', 'Washington', 'Wisconsin',\n",
       "       'West Virginia', 'Wyoming'], dtype=object)"
      ]
     },
     "execution_count": 5,
     "metadata": {},
     "output_type": "execute_result"
    }
   ],
   "source": [
    "df['state'].unique()"
   ]
  },
  {
   "cell_type": "code",
   "execution_count": 7,
   "id": "262dfecd",
   "metadata": {},
   "outputs": [
    {
     "data": {
      "text/plain": [
       "array(['AK', 'AL', 'AR', 'AZ', 'CA', 'CO', 'CT', 'DC', 'DE', 'FL', 'GA',\n",
       "       'HI', 'IA', 'ID', 'IL', 'IN', 'KS', 'KY', 'LA', 'MA', 'MD', 'ME',\n",
       "       'MI', 'MN', 'MO', 'MS', 'MT', 'NC', 'ND', 'NE', 'NH', 'NJ', 'NM',\n",
       "       'NV', 'NY', 'OH', 'OK', 'OR', 'PA', 'RI', 'SC', 'SD', 'TN', 'TX',\n",
       "       'UT', 'VA', 'VT', 'WA', 'WI', 'WV', 'WY'], dtype=object)"
      ]
     },
     "execution_count": 7,
     "metadata": {},
     "output_type": "execute_result"
    }
   ],
   "source": [
    "df['state_id'].unique()"
   ]
  },
  {
   "cell_type": "code",
   "execution_count": 5,
   "id": "4d3c05d9",
   "metadata": {},
   "outputs": [],
   "source": [
    "from sklearn.preprocessing import LabelEncoder\n",
    "\n",
    "# Columns to encode\n",
    "encode_cols = [\"state\", \"state_id\", \"Region\", \"Division\"]\n",
    "df2 = df.copy()\n",
    "# Initialize encoder\n",
    "le_dict = {}\n",
    "for col in encode_cols:\n",
    "    le = LabelEncoder()\n",
    "    df2[col] = le.fit_transform(df2[col])\n",
    "    le_dict[col] = le   # store encoders if you need to inverse_transform later"
   ]
  },
  {
   "cell_type": "code",
   "execution_count": 6,
   "id": "2d765942",
   "metadata": {},
   "outputs": [],
   "source": [
    "df2.drop(columns=['state'], inplace=True, errors='ignore')"
   ]
  },
  {
   "cell_type": "code",
   "execution_count": 7,
   "id": "08f4415d",
   "metadata": {},
   "outputs": [],
   "source": [
    "label = 'median_listing_price' \n",
    "X = df2.drop(columns=[label], axis=1)  \n",
    "y = df2[label]\n",
    "\n",
    "X = X.reset_index(drop=True)\n",
    "y = y.reset_index(drop=True)"
   ]
  },
  {
   "cell_type": "code",
   "execution_count": 8,
   "id": "375a24fd",
   "metadata": {},
   "outputs": [],
   "source": [
    "# from sklearn.model_selection import KFold\n",
    "# from sklearn.metrics import mean_squared_error, mean_absolute_error, r2_score\n",
    "# from sklearn.ensemble import RandomForestRegressor, ExtraTreesRegressor\n",
    "# import lightgbm as lgb\n",
    "# import xgboost as xgb\n",
    "# from catboost import CatBoostRegressor\n",
    "# import numpy as np\n",
    "# import gc\n",
    "# import warnings\n",
    "# warnings.filterwarnings(\"ignore\")\n",
    "\n",
    "# def get_model_predictions(X, y, model_func):\n",
    "#     val_preds = np.zeros(len(X))\n",
    "#     cv = KFold(n_splits=10, shuffle=True, random_state=9)\n",
    "\n",
    "#     # Lists to store fold metrics\n",
    "#     rmse_list = []\n",
    "#     mae_list = []\n",
    "#     r2_list = []\n",
    "\n",
    "#     for fold, (train_ind, valid_ind) in enumerate(cv.split(X, y)):\n",
    "#         X_train, y_train = X.iloc[train_ind], y.iloc[train_ind]\n",
    "#         X_val, y_val = X.iloc[valid_ind], y.iloc[valid_ind]\n",
    "\n",
    "#         model = model_func()\n",
    "\n",
    "#         # Fit based on model type\n",
    "#         if model_func == lgb_model:\n",
    "#             model.fit(\n",
    "#                 X_train, y_train,\n",
    "#                 eval_set=[(X_val, y_val)],\n",
    "#                 callbacks=[lgb.early_stopping(stopping_rounds=50), lgb.log_evaluation(-1)]\n",
    "#             )\n",
    "#         elif model_func == xgb_model:\n",
    "#             model.fit(\n",
    "#                 X_train, y_train,\n",
    "#                 eval_set=[(X_val, y_val)],\n",
    "#                 verbose=0\n",
    "#             )\n",
    "#         elif model_func == catboost_model:\n",
    "#             model.fit(\n",
    "#                 X_train, y_train,\n",
    "#                 eval_set=(X_val, y_val),\n",
    "#                 cat_features=[0, 43, 44]\n",
    "#             )\n",
    "#         else:  # RF and ET\n",
    "#             model.fit(X_train, y_train)\n",
    "\n",
    "#         gc.collect()\n",
    "\n",
    "#         y_pred_val = model.predict(X_val)\n",
    "#         y_pred_val = y_pred_val.round()\n",
    "\n",
    "#         # Evaluate\n",
    "#         rmse = np.sqrt(mean_squared_error(y_val, y_pred_val))\n",
    "#         mae = mean_absolute_error(y_val, y_pred_val)\n",
    "#         r2 = r2_score(y_val, y_pred_val)\n",
    "\n",
    "#         rmse_list.append(rmse)\n",
    "#         mae_list.append(mae)\n",
    "#         r2_list.append(r2)\n",
    "\n",
    "#         print(\"-\" * 60)\n",
    "#         print(f\"{model_func.__name__} Fold {fold}\")\n",
    "#         print(f\"RMSE: {rmse:.4f} | MAE: {mae:.4f} | R2: {r2:.4f}\")\n",
    "#         print(\"-\" * 60)\n",
    "        \n",
    "#         val_preds[valid_ind] = y_pred_val\n",
    "#         gc.collect()\n",
    "\n",
    "#     # Print average metrics across folds\n",
    "#     print(\"=\" * 60)\n",
    "#     print(f\"{model_func.__name__} CV Average Metrics:\")\n",
    "#     print(f\"RMSE: {np.mean(rmse_list):.4f} | MAE: {np.mean(mae_list):.4f} | R2: {np.mean(r2_list):.4f}\")\n",
    "#     print(\"=\" * 60)\n",
    "\n",
    "#     return val_preds, rmse_list"
   ]
  },
  {
   "cell_type": "code",
   "execution_count": 9,
   "id": "003e18a0",
   "metadata": {},
   "outputs": [],
   "source": [
    "import mlflow\n",
    "from pathlib import Path\n",
    "\n",
    "def get_project_root():\n",
    "    return Path().resolve().parent.parent\n",
    "\n",
    "# set mlflow tracking uri\n",
    "mlflow.set_tracking_uri(uri=(get_project_root() / 'AI-ML-Services' / 'forecasting_engine' / 'mlruns').as_uri())"
   ]
  },
  {
   "cell_type": "code",
   "execution_count": 10,
   "id": "2269c426",
   "metadata": {},
   "outputs": [
    {
     "name": "stdout",
     "output_type": "stream",
     "text": [
      "Experiment created with ID: 571155472720974951\n"
     ]
    }
   ],
   "source": [
    "experiment_id = mlflow.create_experiment(\"RealEstate_Price_Prediction\", tags={\n",
    "    \"topic\":\"experiment-management\",\n",
    "    \"version\": \"v1\"\n",
    "})\n",
    "\n",
    "print(f\"Experiment created with ID: {experiment_id}\")"
   ]
  },
  {
   "cell_type": "code",
   "execution_count": 11,
   "id": "e091ceeb",
   "metadata": {},
   "outputs": [],
   "source": [
    "# We set the experiment to the one we created earlier.\n",
    "experiment = mlflow.set_experiment(experiment_name=\"RealEstate_Price_Prediction\")"
   ]
  },
  {
   "cell_type": "code",
   "execution_count": 12,
   "id": "f3a05ac5",
   "metadata": {},
   "outputs": [],
   "source": [
    "X = X.sort_values([\"year\", \"month\"])"
   ]
  },
  {
   "cell_type": "code",
   "execution_count": 14,
   "id": "8c39a09e",
   "metadata": {},
   "outputs": [],
   "source": [
    "# from sklearn.model_selection import KFold\n",
    "# from sklearn.metrics import mean_squared_error, mean_absolute_error, r2_score\n",
    "# from sklearn.ensemble import RandomForestRegressor, ExtraTreesRegressor\n",
    "# import lightgbm as lgb\n",
    "# import xgboost as xgb\n",
    "# from catboost import CatBoostRegressor\n",
    "# import numpy as np\n",
    "# import gc\n",
    "# import warnings\n",
    "# warnings.filterwarnings(\"ignore\")\n",
    "\n",
    "# import mlflow\n",
    "# import mlflow.sklearn\n",
    "# import mlflow.lightgbm\n",
    "# import mlflow.xgboost\n",
    "# import mlflow.catboost\n",
    "# import matplotlib.pyplot as plt\n",
    "# import os\n",
    "\n",
    "\n",
    "# def get_model_predictions(X, y, model_func, params=None):\n",
    "#     val_preds = np.zeros(len(X))\n",
    "#     cv = KFold(n_splits=10, shuffle=True, random_state=9)\n",
    "\n",
    "#     rmse_list, mae_list, r2_list = [], [], []\n",
    "\n",
    "#     with mlflow.start_run(run_name=model_func.__name__):\n",
    "#         if params:\n",
    "#             mlflow.log_params(params)   # log params if provided\n",
    "\n",
    "#         for fold, (train_ind, valid_ind) in enumerate(cv.split(X, y)):\n",
    "#             X_train, y_train = X.iloc[train_ind], y.iloc[train_ind]\n",
    "#             X_val, y_val = X.iloc[valid_ind], y.iloc[valid_ind]\n",
    "\n",
    "#             model = model_func(**params)\n",
    "\n",
    "#             # Fit\n",
    "#             if model_func == lgb_model:\n",
    "#                 model.fit(\n",
    "#                     X_train, y_train,\n",
    "#                     eval_set=[(X_val, y_val)],\n",
    "#                     callbacks=[lgb.early_stopping(stopping_rounds=50), lgb.log_evaluation(-1)]\n",
    "#                 )\n",
    "#             elif model_func == xgb_model:\n",
    "#                 model.fit(X_train, y_train, eval_set=[(X_val, y_val)], verbose=0)\n",
    "#             elif model_func == catboost_model:\n",
    "#                 model.fit(X_train, y_train, eval_set=(X_val, y_val), cat_features=[2,3,4])\n",
    "#             else:\n",
    "#                 model.fit(X_train, y_train)\n",
    "\n",
    "#             y_pred_val = model.predict(X_val).round()\n",
    "\n",
    "#             rmse = np.sqrt(mean_squared_error(y_val, y_pred_val))\n",
    "#             mae = mean_absolute_error(y_val, y_pred_val)\n",
    "#             r2 = r2_score(y_val, y_pred_val)\n",
    "\n",
    "#             rmse_list.append(rmse)\n",
    "#             mae_list.append(mae)\n",
    "#             r2_list.append(r2)\n",
    "\n",
    "#             # Log fold metrics\n",
    "#             mlflow.log_metrics({\n",
    "#                 f\"rmse_fold_{fold}\": rmse,\n",
    "#                 f\"mae_fold_{fold}\": mae,\n",
    "#                 f\"r2_fold_{fold}\": r2\n",
    "#             }, step=fold)\n",
    "\n",
    "#         # Log averaged metrics\n",
    "#         avg_rmse, avg_mae, avg_r2 = np.mean(rmse_list), np.mean(mae_list), np.mean(r2_list)\n",
    "#         mlflow.log_metrics({\n",
    "#             \"avg_rmse\": avg_rmse,\n",
    "#             \"avg_mae\": avg_mae,\n",
    "#             \"avg_r2\": avg_r2\n",
    "#         })\n",
    "\n",
    "#         # Log model\n",
    "#         if model_func == lgb_model:\n",
    "#             mlflow.lightgbm.log_model(model, artifact_path=\"model\")\n",
    "#         elif model_func == xgb_model:\n",
    "#             mlflow.xgboost.log_model(model, artifact_path=\"model\")\n",
    "#         elif model_func == catboost_model:\n",
    "#             mlflow.catboost.log_model(model, artifact_path=\"model\")\n",
    "#         else:\n",
    "#             mlflow.sklearn.log_model(model, artifact_path=\"model\")\n",
    "\n",
    "#         # Log additional artifacts (plots, encoders, scalers)\n",
    "#         plt.figure()\n",
    "#         plt.plot(rmse_list, marker=\"o\")\n",
    "#         plt.title(f\"{model_func.__name__} RMSE per Fold\")\n",
    "#         plt.xlabel(\"Fold\")\n",
    "#         plt.ylabel(\"RMSE\")\n",
    "#         plot_path = f\"{model_func.__name__}_rmse_plot.png\"\n",
    "#         plt.savefig(plot_path)\n",
    "#         mlflow.log_artifact(plot_path)\n",
    "#         plt.close()\n",
    "#         os.remove(plot_path)\n",
    "\n",
    "#     return val_preds, rmse_list\n"
   ]
  },
  {
   "cell_type": "code",
   "execution_count": 26,
   "id": "fa64d0af",
   "metadata": {},
   "outputs": [],
   "source": [
    "from sklearn.model_selection import KFold\n",
    "from sklearn.metrics import mean_squared_error, mean_absolute_error, r2_score\n",
    "from sklearn.ensemble import RandomForestRegressor, ExtraTreesRegressor\n",
    "import lightgbm as lgb\n",
    "import xgboost as xgb\n",
    "from catboost import CatBoostRegressor\n",
    "import numpy as np\n",
    "import gc\n",
    "import warnings\n",
    "warnings.filterwarnings(\"ignore\")\n",
    "\n",
    "import mlflow\n",
    "import mlflow.sklearn\n",
    "import mlflow.lightgbm\n",
    "import mlflow.xgboost\n",
    "import mlflow.catboost\n",
    "import matplotlib.pyplot as plt\n",
    "import os\n",
    "\n",
    "\n",
    "def get_training_folds(n_samples, n_splits=5):\n",
    "    \"\"\"Yield progressively larger training subsets.\"\"\"\n",
    "    fold_size = n_samples // n_splits\n",
    "    for i in range(1, n_splits + 1):\n",
    "        train_end = i * fold_size\n",
    "        yield np.arange(0, train_end)\n",
    "\n",
    "\n",
    "def get_model_predictions(X, y, model_func, params=None, holdout_size=51, n_splits=5):\n",
    "    # Split into training base and fixed validation\n",
    "    X_train_base, y_train_base = X.iloc[:-holdout_size], y.iloc[:-holdout_size]\n",
    "    X_val, y_val = X.iloc[-holdout_size:], y.iloc[-holdout_size:]\n",
    "\n",
    "    all_preds = []  # store predictions on validation set per fold\n",
    "    rmse_list, mae_list, r2_list = [], [], []\n",
    "\n",
    "    with mlflow.start_run(run_name=model_func.__name__):\n",
    "        if params:\n",
    "            mlflow.log_params(params)\n",
    "\n",
    "        for fold, train_idx in enumerate(get_training_folds(len(X_train_base), n_splits)):\n",
    "            X_fold_train, y_fold_train = X_train_base.iloc[train_idx], y_train_base.iloc[train_idx]\n",
    "\n",
    "            model = model_func(**params) if params else model_func()\n",
    "\n",
    "            # Fit with library-specific handling\n",
    "            if model_func == lgb_model:\n",
    "                model.fit(\n",
    "                    X_fold_train, y_fold_train,\n",
    "                    eval_set=[(X_val, y_val)],\n",
    "                    callbacks=[lgb.early_stopping(stopping_rounds=50), lgb.log_evaluation(-1)]\n",
    "                )\n",
    "            elif model_func == xgb_model:\n",
    "                model.fit(X_fold_train, y_fold_train, eval_set=[(X_val, y_val)], verbose=0)\n",
    "            elif model_func == catb_model:\n",
    "                model.fit(X_fold_train, y_fold_train, eval_set=(X_val, y_val), cat_features=[2,3,4])\n",
    "            else:\n",
    "                model.fit(X_fold_train, y_fold_train)\n",
    "\n",
    "            # Predict on fixed validation set\n",
    "            y_pred_val = model.predict(X_val).round()\n",
    "            all_preds.append(y_pred_val)\n",
    "\n",
    "            # Metrics\n",
    "            rmse = np.sqrt(mean_squared_error(y_val, y_pred_val))\n",
    "            mae = mean_absolute_error(y_val, y_pred_val)\n",
    "            r2 = r2_score(y_val, y_pred_val)\n",
    "\n",
    "            rmse_list.append(rmse)\n",
    "            mae_list.append(mae)\n",
    "            r2_list.append(r2)\n",
    "\n",
    "            # Log fold metrics\n",
    "            mlflow.log_metrics({\n",
    "                f\"rmse_fold_{fold+1}\": rmse,\n",
    "                f\"mae_fold_{fold+1}\": mae,\n",
    "                f\"r2_fold_{fold+1}\": r2\n",
    "            }, step=fold+1)\n",
    "\n",
    "        # Log averaged metrics\n",
    "        avg_rmse, avg_mae, avg_r2 = np.mean(rmse_list), np.mean(mae_list), np.mean(r2_list)\n",
    "        mlflow.log_metrics({\n",
    "            \"avg_rmse\": avg_rmse,\n",
    "            \"avg_mae\": avg_mae,\n",
    "            \"avg_r2\": avg_r2\n",
    "        })\n",
    "\n",
    "        # Log final trained model (last fold)\n",
    "        if model_func == lgb_model:\n",
    "            mlflow.lightgbm.log_model(model, artifact_path=\"model\")\n",
    "        elif model_func == xgb_model:\n",
    "            mlflow.xgboost.log_model(model, artifact_path=\"model\")\n",
    "        elif model_func == catb_model:\n",
    "            mlflow.catboost.log_model(model, artifact_path=\"model\")\n",
    "        else:\n",
    "            mlflow.sklearn.log_model(model, artifact_path=\"model\")\n",
    "\n",
    "        # Log artifacts (plot of RMSE across folds)\n",
    "        plt.figure()\n",
    "        plt.plot(rmse_list, marker=\"o\")\n",
    "        plt.title(f\"{model_func.__name__} RMSE per Fold\")\n",
    "        plt.xlabel(\"Fold\")\n",
    "        plt.ylabel(\"RMSE\")\n",
    "        plot_path = f\"{model_func.__name__}_rmse_plot.png\"\n",
    "        plt.savefig(plot_path)\n",
    "        mlflow.log_artifact(plot_path)\n",
    "        plt.close()\n",
    "        os.remove(plot_path)\n",
    "\n",
    "    return all_preds, rmse_list\n"
   ]
  },
  {
   "cell_type": "code",
   "execution_count": 16,
   "id": "46383fbc",
   "metadata": {},
   "outputs": [],
   "source": [
    "LGB_params = {\n",
    "    \"n_estimators\": 1000,\n",
    "    \"learning_rate\": 0.1,\n",
    "    \"device\": \"gpu\"\n",
    "}\n",
    "\n",
    "XGB_params = {\n",
    "    \"n_estimators\": 1000,\n",
    "    \"tree_method\": \"gpu_hist\",\n",
    "    \"predictor\": \"gpu_predictor\",\n",
    "    \"objective\": \"reg:squarederror\",\n",
    "    \"random_state\": 42\n",
    "}\n",
    "\n",
    "CAT_params = {\n",
    "    \"iterations\": 1000,\n",
    "    \"loss_function\": \"RMSE\",\n",
    "    \"random_seed\": 42,\n",
    "    \"task_type\": \"GPU\",\n",
    "    \"eval_metric\": \"RMSE\",\n",
    "    \"verbose\": 0,\n",
    "    \"cat_features\": [2,3,4]\n",
    "}\n",
    "\n",
    "ET_params = {\n",
    "    \"random_state\": 42,\n",
    "    \"n_jobs\": -1,\n",
    "    \"verbose\": 0\n",
    "}\n"
   ]
  },
  {
   "cell_type": "code",
   "execution_count": 17,
   "id": "a890b83b",
   "metadata": {},
   "outputs": [],
   "source": [
    "def lgb_model(**params):\n",
    "    return lgb.LGBMRegressor(**params)\n",
    "\n",
    "def xgb_model(**params):\n",
    "    return xgb.XGBRegressor(**params)\n",
    "\n",
    "def catb_model(**params):\n",
    "    return CatBoostRegressor(**params)\n",
    "\n",
    "def et_model(**params):\n",
    "    return ExtraTreesRegressor(**params)"
   ]
  },
  {
   "cell_type": "code",
   "execution_count": 18,
   "id": "3136a112",
   "metadata": {},
   "outputs": [
    {
     "name": "stdout",
     "output_type": "stream",
     "text": [
      "CatBoost categorical feature indices: [2, 3, 4]\n"
     ]
    }
   ],
   "source": [
    "cat_cols = [\n",
    "    'state_id', 'Region', 'Division'\n",
    "]\n",
    "\n",
    "for col in cat_cols:\n",
    "    X[col] = X[col].astype(str)\n",
    "    \n",
    "# 1. Convert to category dtype\n",
    "X[cat_cols] = X[cat_cols].astype('category')\n",
    "\n",
    "# 2. Get categorical feature indices for CatBoost\n",
    "cat_feature_indices = [X.columns.get_loc(col) for col in cat_cols]\n",
    "\n",
    "print(\"CatBoost categorical feature indices:\", cat_feature_indices)"
   ]
  },
  {
   "cell_type": "code",
   "execution_count": 19,
   "id": "0165d446",
   "metadata": {},
   "outputs": [],
   "source": [
    "from sklearn.preprocessing import StandardScaler\n",
    "\n",
    "scaler = StandardScaler()\n",
    "\n",
    "# Fit on training features\n",
    "X_scaled = scaler.fit_transform(X)\n",
    "\n",
    "# Optional: convert back to DataFrame\n",
    "X_scaled = pd.DataFrame(X_scaled, columns=X.columns)"
   ]
  },
  {
   "cell_type": "code",
   "execution_count": 20,
   "id": "f99ce8a9",
   "metadata": {},
   "outputs": [],
   "source": [
    "rmse_results = {}"
   ]
  },
  {
   "cell_type": "code",
   "execution_count": 21,
   "id": "c959ff6d",
   "metadata": {},
   "outputs": [
    {
     "name": "stdout",
     "output_type": "stream",
     "text": [
      "1. XGBRegressor\n"
     ]
    },
    {
     "name": "stderr",
     "output_type": "stream",
     "text": [
      "2025/09/07 22:45:08 WARNING mlflow.models.model: Model logged without a signature and input example. Please set `input_example` parameter when logging the model to auto infer the model signature.\n"
     ]
    }
   ],
   "source": [
    "print(\"1. XGBRegressor\")\n",
    "xgb_val_preds, xgb_rmse_list = get_model_predictions(X_scaled, y, xgb_model, params=XGB_params)\n",
    "rmse_results[\"XGBRegressor\"] = xgb_rmse_list"
   ]
  },
  {
   "cell_type": "code",
   "execution_count": 22,
   "id": "9f3f69f6",
   "metadata": {},
   "outputs": [
    {
     "name": "stdout",
     "output_type": "stream",
     "text": [
      "2. LGBMRegressor\n",
      "[LightGBM] [Info] This is the GPU trainer!!\n",
      "[LightGBM] [Info] Total Bins 10689\n",
      "[LightGBM] [Info] Number of data points in the train set: 958, number of used features: 49\n",
      "[LightGBM] [Info] Using GPU Device: NVIDIA GeForce GTX 1650 with Max-Q Design, Vendor: NVIDIA Corporation\n",
      "[LightGBM] [Info] Compiling OpenCL Kernel with 256 bins...\n",
      "[LightGBM] [Info] GPU programs have been built\n",
      "[LightGBM] [Info] Size of histogram bin entry: 8\n",
      "[LightGBM] [Info] 49 dense feature groups (0.05 MB) transferred to GPU in 0.002466 secs. 0 sparse feature groups\n",
      "[LightGBM] [Info] Start training from score 433433.953027\n",
      "Training until validation scores don't improve for 50 rounds\n",
      "Early stopping, best iteration is:\n",
      "[1]\tvalid_0's l2: 4.74986e+09\n",
      "[LightGBM] [Info] This is the GPU trainer!!\n",
      "[LightGBM] [Info] Total Bins 11073\n",
      "[LightGBM] [Info] Number of data points in the train set: 1916, number of used features: 49\n",
      "[LightGBM] [Info] Using GPU Device: NVIDIA GeForce GTX 1650 with Max-Q Design, Vendor: NVIDIA Corporation\n",
      "[LightGBM] [Info] Compiling OpenCL Kernel with 256 bins...\n",
      "[LightGBM] [Info] GPU programs have been built\n",
      "[LightGBM] [Info] Size of histogram bin entry: 8\n",
      "[LightGBM] [Info] 49 dense feature groups (0.10 MB) transferred to GPU in 0.002516 secs. 0 sparse feature groups\n",
      "[LightGBM] [Info] Start training from score 401280.030793\n",
      "Training until validation scores don't improve for 50 rounds\n",
      "Early stopping, best iteration is:\n",
      "[1]\tvalid_0's l2: 4.88703e+09\n",
      "[LightGBM] [Info] This is the GPU trainer!!\n",
      "[LightGBM] [Info] Total Bins 11151\n",
      "[LightGBM] [Info] Number of data points in the train set: 2874, number of used features: 49\n",
      "[LightGBM] [Info] Using GPU Device: NVIDIA GeForce GTX 1650 with Max-Q Design, Vendor: NVIDIA Corporation\n",
      "[LightGBM] [Info] Compiling OpenCL Kernel with 256 bins...\n",
      "[LightGBM] [Info] GPU programs have been built\n",
      "[LightGBM] [Info] Size of histogram bin entry: 8\n",
      "[LightGBM] [Info] 49 dense feature groups (0.14 MB) transferred to GPU in 0.002107 secs. 0 sparse feature groups\n",
      "[LightGBM] [Info] Start training from score 373743.861169\n",
      "Training until validation scores don't improve for 50 rounds\n",
      "Early stopping, best iteration is:\n",
      "[1]\tvalid_0's l2: 7.16733e+09\n",
      "[LightGBM] [Info] This is the GPU trainer!!\n",
      "[LightGBM] [Info] Total Bins 11156\n",
      "[LightGBM] [Info] Number of data points in the train set: 3832, number of used features: 49\n",
      "[LightGBM] [Info] Using GPU Device: NVIDIA GeForce GTX 1650 with Max-Q Design, Vendor: NVIDIA Corporation\n",
      "[LightGBM] [Info] Compiling OpenCL Kernel with 256 bins...\n",
      "[LightGBM] [Info] GPU programs have been built\n",
      "[LightGBM] [Info] Size of histogram bin entry: 8\n",
      "[LightGBM] [Info] 49 dense feature groups (0.19 MB) transferred to GPU in 0.002442 secs. 0 sparse feature groups\n",
      "[LightGBM] [Info] Start training from score 375235.047234\n",
      "Training until validation scores don't improve for 50 rounds\n",
      "Early stopping, best iteration is:\n",
      "[3]\tvalid_0's l2: 5.10766e+09\n",
      "[LightGBM] [Info] This is the GPU trainer!!\n",
      "[LightGBM] [Info] Total Bins 11158\n",
      "[LightGBM] [Info] Number of data points in the train set: 4790, number of used features: 49\n",
      "[LightGBM] [Info] Using GPU Device: NVIDIA GeForce GTX 1650 with Max-Q Design, Vendor: NVIDIA Corporation\n",
      "[LightGBM] [Info] Compiling OpenCL Kernel with 256 bins...\n",
      "[LightGBM] [Info] GPU programs have been built\n",
      "[LightGBM] [Info] Size of histogram bin entry: 8\n",
      "[LightGBM] [Info] 49 dense feature groups (0.24 MB) transferred to GPU in 0.002314 secs. 0 sparse feature groups\n",
      "[LightGBM] [Info] Start training from score 371907.790605\n",
      "Training until validation scores don't improve for 50 rounds\n",
      "Early stopping, best iteration is:\n",
      "[1]\tvalid_0's l2: 7.67141e+09\n"
     ]
    },
    {
     "name": "stderr",
     "output_type": "stream",
     "text": [
      "2025/09/07 22:46:11 WARNING mlflow.models.model: Model logged without a signature and input example. Please set `input_example` parameter when logging the model to auto infer the model signature.\n"
     ]
    }
   ],
   "source": [
    "print(\"2. LGBMRegressor\")\n",
    "lgb_val_preds, lgb_rmse_list = get_model_predictions(X_scaled, y, lgb_model, params=LGB_params)\n",
    "rmse_results[\"LGBMRegressor\"] = lgb_rmse_list"
   ]
  },
  {
   "cell_type": "code",
   "execution_count": 27,
   "id": "8d0b2c33",
   "metadata": {},
   "outputs": [
    {
     "name": "stdout",
     "output_type": "stream",
     "text": [
      "3. CatBoostRegressor\n"
     ]
    },
    {
     "name": "stderr",
     "output_type": "stream",
     "text": [
      "2025/09/07 22:54:22 WARNING mlflow.models.model: Model logged without a signature and input example. Please set `input_example` parameter when logging the model to auto infer the model signature.\n"
     ]
    }
   ],
   "source": [
    "print(\"3. CatBoostRegressor\")\n",
    "cat_val_preds, cat_rmse_list = get_model_predictions(X, y, catb_model, params=CAT_params)\n",
    "rmse_results[\"CatBoostRegressor\"] = cat_rmse_list"
   ]
  },
  {
   "cell_type": "code",
   "execution_count": 28,
   "id": "cf83f569",
   "metadata": {},
   "outputs": [
    {
     "name": "stdout",
     "output_type": "stream",
     "text": [
      "4. ExtraTreesRegressor\n"
     ]
    },
    {
     "name": "stderr",
     "output_type": "stream",
     "text": [
      "2025/09/07 22:54:31 WARNING mlflow.models.model: Model logged without a signature and input example. Please set `input_example` parameter when logging the model to auto infer the model signature.\n"
     ]
    }
   ],
   "source": [
    "print(\"4. ExtraTreesRegressor\")\n",
    "et_val_preds, et_rmse_list = get_model_predictions(X_scaled, y, et_model, params=ET_params)\n",
    "rmse_results[\"ExtraTreesRegressor\"] = et_rmse_list"
   ]
  },
  {
   "cell_type": "code",
   "execution_count": 29,
   "id": "92dab5d0",
   "metadata": {},
   "outputs": [
    {
     "data": {
      "image/png": "[encoded data removed]",
      "text/plain": [
       "<Figure size 1000x600 with 1 Axes>"
      ]
     },
     "metadata": {},
     "output_type": "display_data"
    }
   ],
   "source": [
    "import matplotlib.pyplot as plt\n",
    "\n",
    "plt.figure(figsize=(10,6))\n",
    "\n",
    "for model_name, rmses in rmse_results.items():\n",
    "    plt.plot(range(1, len(rmses)+1), rmses, marker='o', label=model_name)\n",
    "\n",
    "plt.xlabel(\"Fold\")\n",
    "plt.ylabel(\"RMSE\")\n",
    "plt.title(\"RMSE Across Folds for Different Models\")\n",
    "plt.legend()\n",
    "plt.grid(True)\n",
    "plt.show()"
   ]
  },
  {
   "cell_type": "code",
   "execution_count": null,
   "id": "6668846d",
   "metadata": {},
   "outputs": [],
   "source": []
  },
  {
   "cell_type": "code",
   "execution_count": null,
   "id": "857f2311",
   "metadata": {},
   "outputs": [],
   "source": []
  }
 ],
 "metadata": {
  "kernelspec": {
   "display_name": "myenv",
   "language": "python",
   "name": "python3"
  },
  "language_info": {
   "codemirror_mode": {
    "name": "ipython",
    "version": 3
   },
   "file_extension": ".py",
   "mimetype": "text/x-python",
   "name": "python",
   "nbconvert_exporter": "python",
   "pygments_lexer": "ipython3",
   "version": "3.11.3"
  }
 },
 "nbformat": 4,
 "nbformat_minor": 5
}
