{
 "cells": [
  {
   "cell_type": "code",
   "execution_count": 5,
   "id": "5c2bf27c",
   "metadata": {},
   "outputs": [],
   "source": [
    "import mlflow\n",
    "from pathlib import Path\n",
    "\n",
    "def get_project_root():\n",
    "    return Path().resolve().parent.parent\n",
    "\n",
    "# set mlflow tracking uri\n",
    "mlflow.set_tracking_uri(uri=(get_project_root() / 'AI-ML-Services' / 'forecasting_engine' / 'mlruns').as_uri())"
   ]
  },
  {
   "cell_type": "code",
   "execution_count": 6,
   "id": "0caf5d5b",
   "metadata": {},
   "outputs": [
    {
     "name": "stdout",
     "output_type": "stream",
     "text": [
      "Experiment created with ID: 770456358150196098\n"
     ]
    }
   ],
   "source": [
    "experiment_id = mlflow.create_experiment(\"creating-experiments\", tags={\n",
    "    \"topic\":\"experiment-management\",\n",
    "    \"version\": \"v1\"\n",
    "})\n",
    "\n",
    "print(f\"Experiment created with ID: {experiment_id}\")"
   ]
  },
  {
   "cell_type": "code",
   "execution_count": 7,
   "id": "f93e6e29",
   "metadata": {},
   "outputs": [],
   "source": [
    "# We set the experiment to the one we created earlier.\n",
    "experiment = mlflow.set_experiment(experiment_name=\"creating-experiments\")"
   ]
  },
  {
   "cell_type": "code",
   "execution_count": 8,
   "id": "dac89b47",
   "metadata": {},
   "outputs": [
    {
     "name": "stdout",
     "output_type": "stream",
     "text": [
      "Active run_id: d3d9ed6d97b3407d91f17865031723a6\n"
     ]
    }
   ],
   "source": [
    "# Now we start a new run, this will create a new run in the experiment we set\n",
    "with mlflow.start_run() as run:\n",
    "    print(f\"Active run_id: {run.info.run_id}\")"
   ]
  },
  {
   "cell_type": "code",
   "execution_count": 9,
   "id": "0165b31a",
   "metadata": {},
   "outputs": [
    {
     "data": {
      "text/plain": [
       "experiment_id: \"770456358150196098\"\n",
       "name: \"creating-experiments\"\n",
       "artifact_location: \"file:///C:/1%20Disk%20D/Mora%20Academic/Sem%205/Data%20Science%20and%20Engineering%20Project/AI-ML-Services/forecasting_engine/mlruns/770456358150196098\"\n",
       "lifecycle_stage: \"active\"\n",
       "last_update_time: 1757254808919\n",
       "creation_time: 1757254808919\n",
       "tags {\n",
       "  key: \"topic\"\n",
       "  value: \"experiment-management\"\n",
       "}\n",
       "tags {\n",
       "  key: \"version\"\n",
       "  value: \"v1\"\n",
       "}"
      ]
     },
     "execution_count": 9,
     "metadata": {},
     "output_type": "execute_result"
    }
   ],
   "source": [
    "experiment.to_proto()"
   ]
  },
  {
   "cell_type": "code",
   "execution_count": null,
   "id": "b47855c8",
   "metadata": {},
   "outputs": [],
   "source": []
  },
  {
   "cell_type": "code",
   "execution_count": null,
   "id": "5edbf88a",
   "metadata": {},
   "outputs": [],
   "source": []
  },
  {
   "cell_type": "code",
   "execution_count": null,
   "id": "ebce78e5",
   "metadata": {},
   "outputs": [],
   "source": []
  },
  {
   "cell_type": "code",
   "execution_count": null,
   "id": "2a07f8c0",
   "metadata": {},
   "outputs": [],
   "source": []
  },
  {
   "cell_type": "code",
   "execution_count": null,
   "id": "470e8b06",
   "metadata": {},
   "outputs": [],
   "source": []
  }
 ],
 "metadata": {
  "kernelspec": {
   "display_name": "myenv",
   "language": "python",
   "name": "python3"
  },
  "language_info": {
   "codemirror_mode": {
    "name": "ipython",
    "version": 3
   },
   "file_extension": ".py",
   "mimetype": "text/x-python",
   "name": "python",
   "nbconvert_exporter": "python",
   "pygments_lexer": "ipython3",
   "version": "3.11.3"
  }
 },
 "nbformat": 4,
 "nbformat_minor": 5
}
