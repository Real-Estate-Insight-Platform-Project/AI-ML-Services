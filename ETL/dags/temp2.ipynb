{
 "cells": [
  {
   "cell_type": "code",
   "execution_count": null,
   "id": "ceca7e31",
   "metadata": {},
   "outputs": [],
   "source": [
    "import os\n",
    "from google.cloud import bigquery\n",
    "from get_bq_data import get_bq_data\n",
    "from model_trainer_2 import get_predictions\n",
    "from dotenv import load_dotenv\n",
    "\n",
    "load_dotenv()\n",
    "\n",
    "os.environ['GOOGLE_APPLICATION_CREDENTIALS' ] = 'service_keys.json'\n",
    "\n",
    "client = bigquery. Client()"
   ]
  },
  {
   "cell_type": "code",
   "execution_count": null,
   "id": "e827056d",
   "metadata": {},
   "outputs": [],
   "source": [
    "def aggregate_data():\n",
    "    \"\"\"Load dataset, aggregate, and push to Supabase\"\"\" \n",
    "\n",
    "    existing_data = get_bq_data(client,\"county_market\") \n",
    "\n",
    "    return existing_data"
   ]
  },
  {
   "cell_type": "code",
   "execution_count": null,
   "id": "6dcff5e6",
   "metadata": {},
   "outputs": [],
   "source": [
    "df = aggregate_data()\n",
    "df.sort_values(by=['year', 'month', 'state_num','county_num'], inplace=True)\n",
    "df.reset_index(drop=True, inplace=True)\n",
    "df"
   ]
  },
  {
   "cell_type": "code",
   "execution_count": null,
   "id": "e99a2e2e",
   "metadata": {},
   "outputs": [],
   "source": [
    "from preprocessing_4 import preprocess_data_4\n",
    "\n",
    "target_df = preprocess_data_4(25, df.copy())\n",
    "prediction_df = target_df.copy()"
   ]
  },
  {
   "cell_type": "code",
   "execution_count": null,
   "id": "f938aa4e",
   "metadata": {},
   "outputs": [],
   "source": [
    "def train_model(df, prediction_df):\n",
    "\n",
    "    features = [\n",
    "        \"median_listing_price\",\n",
    "        \"median_days_on_market\"\n",
    "    ]\n",
    "    \n",
    "    for feature in features:\n",
    "        predictions = get_predictions(df, feature, 24)\n",
    "        prediction_df[feature] = predictions\n",
    "\n",
    "    for col in features:\n",
    "        if col in prediction_df.columns:\n",
    "            prediction_df[col] = prediction_df[col].astype(int)\n",
    "\n",
    "    return prediction_df"
   ]
  },
  {
   "cell_type": "code",
   "execution_count": null,
   "id": "de54e920",
   "metadata": {},
   "outputs": [],
   "source": [
    "preds = train_model(df, prediction_df)"
   ]
  },
  {
   "cell_type": "code",
   "execution_count": null,
   "id": "19c77ce9",
   "metadata": {},
   "outputs": [],
   "source": [
    "preds_2 = preds.copy()"
   ]
  },
  {
   "cell_type": "code",
   "execution_count": null,
   "id": "422dbf82",
   "metadata": {},
   "outputs": [],
   "source": [
    "from sklearn.preprocessing import MinMaxScaler\n",
    "import numpy as np"
   ]
  },
  {
   "cell_type": "code",
   "execution_count": null,
   "id": "4190c14e",
   "metadata": {},
   "outputs": [],
   "source": [
    "latest_df = df.groupby(\"county_num\").tail(1).reset_index(drop=True)\n",
    "preds['year_month'] = (preds['year'] - 2025) * 12 + preds['month'] - 9\n",
    "preds.drop(columns=['year', 'month'], inplace=True)\n",
    "cols_order = ['year_month', 'county_num', 'state_num', 'median_listing_price', 'median_days_on_market']\n",
    "preds = preds[cols_order]\n",
    "preds = preds[preds['year_month'].isin([3,6,12])]\n",
    "preds.loc[preds['year_month'] == 12, 'median_listing_price'] = preds.loc[preds['year_month'] == 12, 'median_listing_price'] * 1.15\n",
    "preds.loc[preds['year_month'] == 6, 'median_listing_price'] = preds.loc[preds['year_month'] == 6, 'median_listing_price'] * 1.1\n",
    "\n",
    "preds['appreciation'] = 0.0\n",
    "for index, row in preds.iterrows():\n",
    "    county_num = row['county_num']\n",
    "    \n",
    "    current_price = latest_df[(latest_df['county_num'] == county_num)]['median_listing_price'].values[0]\n",
    "    predicted_price = row['median_listing_price']\n",
    "    \n",
    "    appreciation = ((predicted_price - current_price) / current_price) * 100\n",
    "    preds.loc[index, 'appreciation'] = appreciation\n",
    "\n",
    "def calculate_volatility(df):\n",
    "    volatility = {}\n",
    "    for county in df['county_num'].unique():\n",
    "        county_data = df[df['county_num'] == county].sort_values(by=['year', 'month'])\n",
    "        if len(county_data) >= 12:\n",
    "            last_12_mm = county_data['median_listing_price_mm'].tail(12).values\n",
    "            volatility[county] = np.std(last_12_mm) * 100\n",
    "        else:\n",
    "            volatility[county] = np.nan  # Not enough data to calculate volatility\n",
    "    return volatility\n",
    "\n",
    "volatility_data = calculate_volatility(df)\n",
    "\n",
    "preds['volatility'] = 0.0  # Initialize Volatility column\n",
    "\n",
    "for index, row in preds.iterrows():\n",
    "    county_num = row['county_num']\n",
    "    if county_num in volatility_data:\n",
    "        preds.loc[index, 'volatility'] = volatility_data[county_num]\n",
    "    else:\n",
    "        preds.loc[index, 'volatility'] = np.nan\n",
    "\n",
    "def normalize_days_on_market(preds):\n",
    "    inv_days = preds.groupby('year_month')['median_days_on_market'].transform(\n",
    "        lambda s: np.where(s != 0, 1 / s, 1)\n",
    "    )\n",
    "\n",
    "    scaler = MinMaxScaler()\n",
    "    preds = preds.copy()\n",
    "    preds['liquidity'] = scaler.fit_transform(inv_days.to_frame()) * 100\n",
    "    return preds\n",
    "\n",
    "preds = normalize_days_on_market(preds)\n",
    "preds.drop(columns=['median_listing_price', 'median_days_on_market'], inplace=True)\n",
    "preds['IOI'] = (0.4 * preds['appreciation']) + (0.3 * preds['liquidity']) - (0.3 * preds['volatility'])\n",
    "preds['IOI'] = preds.groupby('year_month')['IOI'].transform(lambda x: (x - x.min()) / (x.max() - x.min()))\n",
    "preds['IOI'] = preds['IOI'] * 100\n",
    "preds"
   ]
  },
  {
   "cell_type": "code",
   "execution_count": null,
   "metadata": {},
   "outputs": [],
   "source": [
    "preds.to_csv(\"county_investment_insights.csv\", index=False)"
   ]
  }
 ],
 "metadata": {
  "kernelspec": {
   "display_name": "myenv",
   "language": "python",
   "name": "python3"
  },
  "language_info": {
   "codemirror_mode": {
    "name": "ipython",
    "version": 3
   },
   "file_extension": ".py",
   "mimetype": "text/x-python",
   "name": "python",
   "nbconvert_exporter": "python",
   "pygments_lexer": "ipython3",
   "version": "3.11.3"
  }
 },
 "nbformat": 4,
 "nbformat_minor": 5
}
