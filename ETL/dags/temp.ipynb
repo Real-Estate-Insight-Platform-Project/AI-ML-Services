{
 "cells": [
  {
   "cell_type": "code",
   "execution_count": null,
   "id": "ceca7e31",
   "metadata": {},
   "outputs": [],
   "source": [
    "import pandas as pd\n",
    "import os\n",
    "import json\n",
    "from google.cloud import bigquery\n",
    "from google.oauth2 import service_account\n",
    "from get_bq_data import get_bq_data\n",
    "from preprocessing_1 import preprocess_data_1\n",
    "from upload_bq_data import upload_bq_data\n",
    "from temp_model_trainer import get_predictions\n",
    "from dotenv import load_dotenv\n",
    "\n",
    "load_dotenv()\n",
    "\n",
    "os.environ['GOOGLE_APPLICATION_CREDENTIALS' ] = 'service_keys.json'\n",
    "\n",
    "client = bigquery. Client()"
   ]
  },
  {
   "cell_type": "code",
   "execution_count": null,
   "id": "e827056d",
   "metadata": {},
   "outputs": [],
   "source": [
    "def aggregate_data():\n",
    "    \"\"\"Load dataset, aggregate, and push to Supabase\"\"\" \n",
    "\n",
    "    existing_data = get_bq_data(client,\"state_market\") \n",
    "\n",
    "    return existing_data"
   ]
  },
  {
   "cell_type": "code",
   "execution_count": null,
   "id": "cb47b7f9",
   "metadata": {},
   "outputs": [],
   "source": [
    "def train_model(df):\n",
    "    \"\"\"Load dataset, train model, save predictions to Supabase\"\"\"\n",
    "\n",
    "    # List of features to predict\n",
    "    features = [\n",
    "        \"median_listing_price\",\n",
    "        \"average_listing_price\",\n",
    "        \"median_listing_price_per_square_foot\",\n",
    "        \"total_listing_count\",\n",
    "        \"median_days_on_market\"\n",
    "    ]\n",
    "    \n",
    "    for feature in features:\n",
    "        get_predictions(df, feature)"
   ]
  },
  {
   "cell_type": "code",
   "execution_count": null,
   "id": "6dcff5e6",
   "metadata": {},
   "outputs": [],
   "source": [
    "df = aggregate_data()\n",
    "df.sort_values(by=['year', 'month', 'state_num'], inplace=True)\n",
    "df.reset_index(drop=True, inplace=True)\n",
    "df"
   ]
  },
  {
   "cell_type": "code",
   "execution_count": null,
   "id": "ddbbe098",
   "metadata": {},
   "outputs": [],
   "source": [
    "train_model(df)"
   ]
  }
 ],
 "metadata": {
  "kernelspec": {
   "display_name": "myenv",
   "language": "python",
   "name": "python3"
  },
  "language_info": {
   "codemirror_mode": {
    "name": "ipython",
    "version": 3
   },
   "file_extension": ".py",
   "mimetype": "text/x-python",
   "name": "python",
   "nbconvert_exporter": "python",
   "pygments_lexer": "ipython3",
   "version": "3.11.3"
  }
 },
 "nbformat": 4,
 "nbformat_minor": 5
}
