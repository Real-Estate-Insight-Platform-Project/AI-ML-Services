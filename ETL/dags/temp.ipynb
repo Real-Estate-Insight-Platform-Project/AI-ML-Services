{
 "cells": [
  {
   "cell_type": "code",
   "execution_count": 1,
   "id": "13d78b8e",
   "metadata": {},
   "outputs": [],
   "source": [
    "import pandas as pd"
   ]
  },
  {
   "cell_type": "code",
   "execution_count": 2,
   "id": "9133310f",
   "metadata": {},
   "outputs": [],
   "source": [
    "# url = \"https://econdata.s3-us-west-2.amazonaws.com/Reports/Core/RDC_Inventory_Core_Metrics_State.csv\"\n",
    "# df = pd.read_csv(url)\n",
    "# df.to_csv(\"data1.csv\" , index=False)"
   ]
  },
  {
   "cell_type": "code",
   "execution_count": 3,
   "id": "9802673c",
   "metadata": {},
   "outputs": [
    {
     "data": {
      "text/plain": [
       "<Experiment: artifact_location='file:///C:/1%20Disk%20D/Mora%20Academic/Sem%205/Data%20Science%20and%20Engineering%20Project/AI-ML-Services/mlflow/mlruns/172484359735219500', creation_time=1758102579048, experiment_id='172484359735219500', last_update_time=1758102579048, lifecycle_stage='active', name='RealEstate_forcasting', tags={}>"
      ]
     },
     "execution_count": 3,
     "metadata": {},
     "output_type": "execute_result"
    }
   ],
   "source": [
    "\n",
    "import mlflow\n",
    "from pathlib import Path\n",
    "\n",
    "def get_project_root():\n",
    "    return Path().resolve().parent.parent\n",
    "\n",
    "mlflow.set_tracking_uri(uri=(get_project_root() / 'mlflow' / 'mlruns').as_uri())\n",
    "mlflow.set_experiment(experiment_name=\"RealEstate_forcasting\")"
   ]
  },
  {
   "cell_type": "code",
   "execution_count": 4,
   "id": "cce0eb50",
   "metadata": {},
   "outputs": [],
   "source": [
    "# from supabase import create_client\n",
    "# import os\n",
    "\n",
    "# # Load environment variables\n",
    "# from dotenv import load_dotenv\n",
    "# load_dotenv()\n",
    "\n",
    "# SUPABASE_URL = os.getenv(\"SUPABASE_URL\")\n",
    "# SUPABASE_KEY = os.getenv(\"SUPABASE_SERVICE_ROLE_KEY\")\n",
    "\n",
    "# df = pd.read_csv(\"data1.csv\")\n",
    "\n",
    "#     # Preprocess data\n",
    "# from preprocessing_1 import preprocess_data_1\n",
    "# df = preprocess_data_1(df)\n",
    "\n",
    "#     # Push preprocessed data to Supabase (state_market table)\n",
    "# supabase = create_client(SUPABASE_URL, SUPABASE_KEY)\n",
    "# # Check if data already exists (query row count)\n",
    "# response = supabase.table(\"state_market\").select(\"*\", count=\"exact\").execute()\n",
    "# if response.count == 0:\n",
    "#     data_to_insert = df.to_dict('records')\n",
    "#     supabase.table(\"state_market\").insert(data_to_insert).execute()\n",
    "# else:\n",
    "#     print(\"Data already exists in Supabase; skipping insertion.\")\n",
    "\n",
    "#     # Load full dataset from Supabase\n",
    "# from get_supabase_data import get_supabase_data\n",
    "# df = get_supabase_data() \n",
    "\n",
    "# df.to_csv(\"data1.csv\", index=False)"
   ]
  },
  {
   "cell_type": "code",
   "execution_count": 5,
   "id": "9041c45f",
   "metadata": {},
   "outputs": [],
   "source": [
    "from get_supabase_data import get_supabase_data\n",
    "df = get_supabase_data() "
   ]
  },
  {
   "cell_type": "code",
   "execution_count": 6,
   "id": "19895d5b",
   "metadata": {},
   "outputs": [],
   "source": [
    "def train_model():\n",
    "    \"\"\"Load dataset, train model, save predictions to Supabase\"\"\"\n",
    "\n",
    "    # List of features to predict\n",
    "    features = [\n",
    "        \"median_listing_price\",\n",
    "        \"average_listing_price\",\n",
    "        \"median_listing_price_per_square_foot\",\n",
    "        \"total_listing_count\",\n",
    "        \"median_days_on_market\"\n",
    "    ]\n",
    "\n",
    "    from preprocessing_2 import preprocess_data_2\n",
    "    from model_trainer import get_predictions\n",
    "\n",
    "    target_df = preprocess_data_2(df.copy())\n",
    "    prediction_df = target_df.copy()\n",
    "\n",
    "    for feature in features:\n",
    "        predictions = get_predictions(df, feature)\n",
    "        prediction_df[feature] = predictions\n",
    "\n",
    "    for col in features:\n",
    "        if col in prediction_df.columns:\n",
    "            prediction_df[col] = prediction_df[col].astype(int)\n",
    "            \n",
    "    # Concatenate all predictions\n",
    "    return prediction_df"
   ]
  },
  {
   "cell_type": "code",
   "execution_count": 7,
   "id": "b15783bc",
   "metadata": {},
   "outputs": [
    {
     "name": "stdout",
     "output_type": "stream",
     "text": [
      "Validation RMSE: 6664.0459, RMSLE: 0.0156, MAE: 5107.4308, MAPE: 1.18%, R²: 0.9978\n",
      "Validation RMSE: 8895.6558, RMSLE: 0.0194, MAE: 7249.8860, MAPE: 1.62%, R²: 0.9959\n",
      "Validation RMSE: 9837.5325, RMSLE: 0.0218, MAE: 8078.9589, MAPE: 1.83%, R²: 0.9947\n"
     ]
    },
    {
     "name": "stderr",
     "output_type": "stream",
     "text": [
      "2025/09/17 15:21:10 WARNING mlflow.models.model: Model logged without a signature and input example. Please set `input_example` parameter when logging the model to auto infer the model signature.\n"
     ]
    },
    {
     "name": "stdout",
     "output_type": "stream",
     "text": [
      "[LightGBM] [Info] Auto-choosing col-wise multi-threading, the overhead of testing was 0.028449 seconds.\n",
      "You can set `force_col_wise=true` to remove the overhead.\n",
      "[LightGBM] [Info] Total Bins 250258\n",
      "[LightGBM] [Info] Number of data points in the train set: 3519, number of used features: 998\n",
      "[LightGBM] [Info] Start training from score 0.634774\n",
      "[LightGBM] [Info] Auto-choosing col-wise multi-threading, the overhead of testing was 0.029880 seconds.\n",
      "You can set `force_col_wise=true` to remove the overhead.\n",
      "[LightGBM] [Info] Total Bins 250258\n",
      "[LightGBM] [Info] Number of data points in the train set: 3519, number of used features: 998\n",
      "[LightGBM] [Info] Start training from score 0.643798\n",
      "[LightGBM] [Info] Auto-choosing col-wise multi-threading, the overhead of testing was 0.029598 seconds.\n",
      "You can set `force_col_wise=true` to remove the overhead.\n",
      "[LightGBM] [Info] Total Bins 250258\n",
      "[LightGBM] [Info] Number of data points in the train set: 3519, number of used features: 998\n",
      "[LightGBM] [Info] Start training from score 0.653404\n",
      "Validation RMSE: 6080.4190, RMSLE: 0.0130, MAE: 4755.5556, MAPE: 1.05%, R²: 0.9981\n",
      "Validation RMSE: 7496.7904, RMSLE: 0.0158, MAE: 5838.7146, MAPE: 1.27%, R²: 0.9971\n",
      "Validation RMSE: 8764.2351, RMSLE: 0.0184, MAE: 6853.3145, MAPE: 1.52%, R²: 0.9958\n"
     ]
    },
    {
     "name": "stderr",
     "output_type": "stream",
     "text": [
      "2025/09/17 15:21:31 WARNING mlflow.models.model: Model logged without a signature and input example. Please set `input_example` parameter when logging the model to auto infer the model signature.\n"
     ]
    },
    {
     "name": "stdout",
     "output_type": "stream",
     "text": [
      "Using LightGBM model for predictions\n",
      "[LightGBM] [Info] Auto-choosing col-wise multi-threading, the overhead of testing was 0.031995 seconds.\n",
      "You can set `force_col_wise=true` to remove the overhead.\n",
      "[LightGBM] [Info] Total Bins 250262\n",
      "[LightGBM] [Info] Number of data points in the train set: 3672, number of used features: 998\n",
      "[LightGBM] [Info] Start training from score 0.646784\n",
      "[LightGBM] [Info] Auto-choosing col-wise multi-threading, the overhead of testing was 0.031300 seconds.\n",
      "You can set `force_col_wise=true` to remove the overhead.\n",
      "[LightGBM] [Info] Total Bins 250262\n",
      "[LightGBM] [Info] Number of data points in the train set: 3672, number of used features: 998\n",
      "[LightGBM] [Info] Start training from score 0.655719\n",
      "[LightGBM] [Info] Auto-choosing col-wise multi-threading, the overhead of testing was 0.029002 seconds.\n",
      "You can set `force_col_wise=true` to remove the overhead.\n",
      "[LightGBM] [Info] Total Bins 250262\n",
      "[LightGBM] [Info] Number of data points in the train set: 3672, number of used features: 998\n",
      "[LightGBM] [Info] Start training from score 0.664427\n",
      "Validation RMSE: 16638.8190, RMSLE: 0.0187, MAE: 10206.4589, MAPE: 1.34%, R²: 0.9971\n",
      "Validation RMSE: 28984.8924, RMSLE: 0.0305, MAE: 18077.5441, MAPE: 2.20%, R²: 0.9912\n",
      "Validation RMSE: 33344.7007, RMSLE: 0.0380, MAE: 21770.5227, MAPE: 2.80%, R²: 0.9882\n"
     ]
    },
    {
     "name": "stderr",
     "output_type": "stream",
     "text": [
      "2025/09/17 15:22:10 WARNING mlflow.models.model: Model logged without a signature and input example. Please set `input_example` parameter when logging the model to auto infer the model signature.\n"
     ]
    },
    {
     "name": "stdout",
     "output_type": "stream",
     "text": [
      "[LightGBM] [Info] Auto-choosing col-wise multi-threading, the overhead of testing was 0.024024 seconds.\n",
      "You can set `force_col_wise=true` to remove the overhead.\n",
      "[LightGBM] [Info] Total Bins 250258\n",
      "[LightGBM] [Info] Number of data points in the train set: 3519, number of used features: 998\n",
      "[LightGBM] [Info] Start training from score 0.619740\n",
      "[LightGBM] [Info] Auto-choosing col-wise multi-threading, the overhead of testing was 0.025614 seconds.\n",
      "You can set `force_col_wise=true` to remove the overhead.\n",
      "[LightGBM] [Info] Total Bins 250258\n",
      "[LightGBM] [Info] Number of data points in the train set: 3519, number of used features: 998\n",
      "[LightGBM] [Info] Start training from score 0.629005\n",
      "[LightGBM] [Info] Auto-choosing col-wise multi-threading, the overhead of testing was 0.024949 seconds.\n",
      "You can set `force_col_wise=true` to remove the overhead.\n",
      "[LightGBM] [Info] Total Bins 250258\n",
      "[LightGBM] [Info] Number of data points in the train set: 3519, number of used features: 998\n",
      "[LightGBM] [Info] Start training from score 0.638516\n",
      "Validation RMSE: 16220.6290, RMSLE: 0.0180, MAE: 8854.6241, MAPE: 1.19%, R²: 0.9973\n",
      "Validation RMSE: 26922.1244, RMSLE: 0.0303, MAE: 16453.7075, MAPE: 2.14%, R²: 0.9924\n",
      "Validation RMSE: 28420.5157, RMSLE: 0.0352, MAE: 20340.5168, MAPE: 2.73%, R²: 0.9914\n"
     ]
    },
    {
     "name": "stderr",
     "output_type": "stream",
     "text": [
      "2025/09/17 15:22:28 WARNING mlflow.models.model: Model logged without a signature and input example. Please set `input_example` parameter when logging the model to auto infer the model signature.\n"
     ]
    },
    {
     "name": "stdout",
     "output_type": "stream",
     "text": [
      "Using LightGBM model for predictions\n",
      "[LightGBM] [Info] Auto-choosing col-wise multi-threading, the overhead of testing was 0.028903 seconds.\n",
      "You can set `force_col_wise=true` to remove the overhead.\n",
      "[LightGBM] [Info] Total Bins 250262\n",
      "[LightGBM] [Info] Number of data points in the train set: 3672, number of used features: 998\n",
      "[LightGBM] [Info] Start training from score 0.629796\n",
      "[LightGBM] [Info] Auto-choosing col-wise multi-threading, the overhead of testing was 0.025420 seconds.\n",
      "You can set `force_col_wise=true` to remove the overhead.\n",
      "[LightGBM] [Info] Total Bins 250262\n",
      "[LightGBM] [Info] Number of data points in the train set: 3672, number of used features: 998\n",
      "[LightGBM] [Info] Start training from score 0.638634\n",
      "[LightGBM] [Info] Auto-choosing col-wise multi-threading, the overhead of testing was 0.025826 seconds.\n",
      "You can set `force_col_wise=true` to remove the overhead.\n",
      "[LightGBM] [Info] Total Bins 250262\n",
      "[LightGBM] [Info] Number of data points in the train set: 3672, number of used features: 998\n",
      "[LightGBM] [Info] Start training from score 0.647225\n",
      "Validation RMSE: 2.6442, RMSLE: 0.0096, MAE: 2.0699, MAPE: 0.81%, R²: 0.9994\n",
      "Validation RMSE: 5.6406, RMSLE: 0.0162, MAE: 3.5669, MAPE: 1.27%, R²: 0.9970\n",
      "Validation RMSE: 5.9736, RMSLE: 0.0185, MAE: 3.7133, MAPE: 1.37%, R²: 0.9966\n"
     ]
    },
    {
     "name": "stderr",
     "output_type": "stream",
     "text": [
      "2025/09/17 15:23:09 WARNING mlflow.models.model: Model logged without a signature and input example. Please set `input_example` parameter when logging the model to auto infer the model signature.\n"
     ]
    },
    {
     "name": "stdout",
     "output_type": "stream",
     "text": [
      "[LightGBM] [Info] Auto-choosing col-wise multi-threading, the overhead of testing was 0.028865 seconds.\n",
      "You can set `force_col_wise=true` to remove the overhead.\n",
      "[LightGBM] [Info] Total Bins 250262\n",
      "[LightGBM] [Info] Number of data points in the train set: 3519, number of used features: 998\n",
      "[LightGBM] [Info] Start training from score 0.648751\n",
      "[LightGBM] [Info] Auto-choosing col-wise multi-threading, the overhead of testing was 0.028353 seconds.\n",
      "You can set `force_col_wise=true` to remove the overhead.\n",
      "[LightGBM] [Info] Total Bins 250262\n",
      "[LightGBM] [Info] Number of data points in the train set: 3519, number of used features: 998\n",
      "[LightGBM] [Info] Start training from score 0.659865\n",
      "[LightGBM] [Info] Auto-choosing col-wise multi-threading, the overhead of testing was 0.028592 seconds.\n",
      "You can set `force_col_wise=true` to remove the overhead.\n",
      "[LightGBM] [Info] Total Bins 250262\n",
      "[LightGBM] [Info] Number of data points in the train set: 3519, number of used features: 998\n",
      "[LightGBM] [Info] Start training from score 0.671135\n",
      "Validation RMSE: 2.8157, RMSLE: 0.0106, MAE: 2.1576, MAPE: 0.85%, R²: 0.9993\n",
      "Validation RMSE: 4.9064, RMSLE: 0.0151, MAE: 3.2401, MAPE: 1.16%, R²: 0.9977\n",
      "Validation RMSE: 5.8808, RMSLE: 0.0175, MAE: 3.5072, MAPE: 1.28%, R²: 0.9967\n"
     ]
    },
    {
     "name": "stderr",
     "output_type": "stream",
     "text": [
      "2025/09/17 15:23:27 WARNING mlflow.models.model: Model logged without a signature and input example. Please set `input_example` parameter when logging the model to auto infer the model signature.\n"
     ]
    },
    {
     "name": "stdout",
     "output_type": "stream",
     "text": [
      "Using LightGBM model for predictions\n",
      "[LightGBM] [Info] Auto-choosing col-wise multi-threading, the overhead of testing was 0.025825 seconds.\n",
      "You can set `force_col_wise=true` to remove the overhead.\n",
      "[LightGBM] [Info] Total Bins 250266\n",
      "[LightGBM] [Info] Number of data points in the train set: 3672, number of used features: 998\n",
      "[LightGBM] [Info] Start training from score 0.661883\n",
      "[LightGBM] [Info] Auto-choosing col-wise multi-threading, the overhead of testing was 0.026243 seconds.\n",
      "You can set `force_col_wise=true` to remove the overhead.\n",
      "[LightGBM] [Info] Total Bins 250266\n",
      "[LightGBM] [Info] Number of data points in the train set: 3672, number of used features: 998\n",
      "[LightGBM] [Info] Start training from score 0.672373\n",
      "[LightGBM] [Info] Auto-choosing col-wise multi-threading, the overhead of testing was 0.031155 seconds.\n",
      "You can set `force_col_wise=true` to remove the overhead.\n",
      "[LightGBM] [Info] Total Bins 250266\n",
      "[LightGBM] [Info] Number of data points in the train set: 3672, number of used features: 998\n",
      "[LightGBM] [Info] Start training from score 0.682689\n",
      "Validation RMSE: 5061.4957, RMSLE: 0.0633, MAE: 1704.2316, MAPE: 4.30%, R²: 0.9841\n",
      "Validation RMSE: 2452.5027, RMSLE: 0.0703, MAE: 1454.4396, MAPE: 5.28%, R²: 0.9961\n",
      "Validation RMSE: 2640.3492, RMSLE: 0.0644, MAE: 1420.8992, MAPE: 5.15%, R²: 0.9953\n"
     ]
    },
    {
     "name": "stderr",
     "output_type": "stream",
     "text": [
      "2025/09/17 15:24:10 WARNING mlflow.models.model: Model logged without a signature and input example. Please set `input_example` parameter when logging the model to auto infer the model signature.\n"
     ]
    },
    {
     "name": "stdout",
     "output_type": "stream",
     "text": [
      "[LightGBM] [Info] Auto-choosing col-wise multi-threading, the overhead of testing was 0.032336 seconds.\n",
      "You can set `force_col_wise=true` to remove the overhead.\n",
      "[LightGBM] [Info] Total Bins 250258\n",
      "[LightGBM] [Info] Number of data points in the train set: 3519, number of used features: 998\n",
      "[LightGBM] [Info] Start training from score 0.452291\n",
      "[LightGBM] [Info] Auto-choosing col-wise multi-threading, the overhead of testing was 0.029270 seconds.\n",
      "You can set `force_col_wise=true` to remove the overhead.\n",
      "[LightGBM] [Info] Total Bins 250258\n",
      "[LightGBM] [Info] Number of data points in the train set: 3519, number of used features: 998\n",
      "[LightGBM] [Info] Start training from score 0.449163\n",
      "[LightGBM] [Info] Auto-choosing col-wise multi-threading, the overhead of testing was 0.029339 seconds.\n",
      "You can set `force_col_wise=true` to remove the overhead.\n",
      "[LightGBM] [Info] Total Bins 250258\n",
      "[LightGBM] [Info] Number of data points in the train set: 3519, number of used features: 998\n",
      "[LightGBM] [Info] Start training from score 0.447383\n",
      "Validation RMSE: 1126.6658, RMSLE: 0.0328, MAE: 689.5621, MAPE: 2.62%, R²: 0.9992\n",
      "Validation RMSE: 1920.3072, RMSLE: 0.0515, MAE: 1293.0200, MAPE: 4.50%, R²: 0.9976\n",
      "Validation RMSE: 2568.7572, RMSLE: 0.0683, MAE: 1531.0375, MAPE: 5.84%, R²: 0.9955\n"
     ]
    },
    {
     "name": "stderr",
     "output_type": "stream",
     "text": [
      "2025/09/17 15:24:30 WARNING mlflow.models.model: Model logged without a signature and input example. Please set `input_example` parameter when logging the model to auto infer the model signature.\n"
     ]
    },
    {
     "name": "stdout",
     "output_type": "stream",
     "text": [
      "Using LightGBM model for predictions\n",
      "[LightGBM] [Info] Auto-choosing col-wise multi-threading, the overhead of testing was 0.033132 seconds.\n",
      "You can set `force_col_wise=true` to remove the overhead.\n",
      "[LightGBM] [Info] Total Bins 250262\n",
      "[LightGBM] [Info] Number of data points in the train set: 3672, number of used features: 998\n",
      "[LightGBM] [Info] Start training from score 0.462102\n",
      "[LightGBM] [Info] Auto-choosing col-wise multi-threading, the overhead of testing was 0.028680 seconds.\n",
      "You can set `force_col_wise=true` to remove the overhead.\n",
      "[LightGBM] [Info] Total Bins 250262\n",
      "[LightGBM] [Info] Number of data points in the train set: 3672, number of used features: 998\n",
      "[LightGBM] [Info] Start training from score 0.460983\n",
      "[LightGBM] [Info] Auto-choosing col-wise multi-threading, the overhead of testing was 0.029869 seconds.\n",
      "You can set `force_col_wise=true` to remove the overhead.\n",
      "[LightGBM] [Info] Total Bins 250262\n",
      "[LightGBM] [Info] Number of data points in the train set: 3672, number of used features: 998\n",
      "[LightGBM] [Info] Start training from score 0.459929\n",
      "Validation RMSE: 2.5644, RMSLE: 0.0516, MAE: 2.0481, MAPE: 4.22%, R²: 0.9438\n",
      "Validation RMSE: 3.7165, RMSLE: 0.0664, MAE: 2.7539, MAPE: 5.01%, R²: 0.8844\n",
      "Validation RMSE: 4.1430, RMSLE: 0.0684, MAE: 3.2523, MAPE: 5.54%, R²: 0.8637\n"
     ]
    },
    {
     "name": "stderr",
     "output_type": "stream",
     "text": [
      "2025/09/17 15:25:16 WARNING mlflow.models.model: Model logged without a signature and input example. Please set `input_example` parameter when logging the model to auto infer the model signature.\n"
     ]
    },
    {
     "name": "stdout",
     "output_type": "stream",
     "text": [
      "[LightGBM] [Info] Auto-choosing col-wise multi-threading, the overhead of testing was 0.030718 seconds.\n",
      "You can set `force_col_wise=true` to remove the overhead.\n",
      "[LightGBM] [Info] Total Bins 253996\n",
      "[LightGBM] [Info] Number of data points in the train set: 3519, number of used features: 998\n",
      "[LightGBM] [Info] Start training from score 0.503783\n",
      "[LightGBM] [Info] Auto-choosing col-wise multi-threading, the overhead of testing was 0.028790 seconds.\n",
      "You can set `force_col_wise=true` to remove the overhead.\n",
      "[LightGBM] [Info] Total Bins 253996\n",
      "[LightGBM] [Info] Number of data points in the train set: 3519, number of used features: 998\n",
      "[LightGBM] [Info] Start training from score 0.501400\n",
      "[LightGBM] [Info] Auto-choosing col-wise multi-threading, the overhead of testing was 0.027381 seconds.\n",
      "You can set `force_col_wise=true` to remove the overhead.\n",
      "[LightGBM] [Info] Total Bins 253996\n",
      "[LightGBM] [Info] Number of data points in the train set: 3519, number of used features: 998\n",
      "[LightGBM] [Info] Start training from score 0.498417\n",
      "Validation RMSE: 1.9581, RMSLE: 0.0395, MAE: 1.6111, MAPE: 3.32%, R²: 0.9672\n",
      "Validation RMSE: 3.0779, RMSLE: 0.0517, MAE: 2.1687, MAPE: 3.90%, R²: 0.9207\n",
      "Validation RMSE: 4.2430, RMSLE: 0.0707, MAE: 2.9877, MAPE: 5.05%, R²: 0.8570\n"
     ]
    },
    {
     "name": "stderr",
     "output_type": "stream",
     "text": [
      "2025/09/17 15:25:36 WARNING mlflow.models.model: Model logged without a signature and input example. Please set `input_example` parameter when logging the model to auto infer the model signature.\n"
     ]
    },
    {
     "name": "stdout",
     "output_type": "stream",
     "text": [
      "Using XGBoost model for predictions\n"
     ]
    }
   ],
   "source": [
    "df2 = train_model()"
   ]
  },
  {
   "cell_type": "code",
   "execution_count": null,
   "id": "1bed0636",
   "metadata": {},
   "outputs": [],
   "source": []
  },
  {
   "cell_type": "code",
   "execution_count": null,
   "metadata": {},
   "outputs": [],
   "source": []
  },
  {
   "cell_type": "code",
   "execution_count": null,
   "id": "28074792",
   "metadata": {},
   "outputs": [],
   "source": []
  },
  {
   "cell_type": "code",
   "execution_count": null,
   "id": "6eb01735",
   "metadata": {},
   "outputs": [],
   "source": []
  },
  {
   "cell_type": "code",
   "execution_count": null,
   "id": "cb47b7f9",
   "metadata": {},
   "outputs": [],
   "source": []
  },
  {
   "cell_type": "code",
   "execution_count": null,
   "id": "db48a868",
   "metadata": {},
   "outputs": [],
   "source": []
  },
  {
   "cell_type": "code",
   "execution_count": null,
   "id": "28c19d50",
   "metadata": {},
   "outputs": [],
   "source": []
  },
  {
   "cell_type": "code",
   "execution_count": null,
   "id": "edba3fc7",
   "metadata": {},
   "outputs": [],
   "source": []
  },
  {
   "cell_type": "code",
   "execution_count": null,
   "id": "ec71a058",
   "metadata": {},
   "outputs": [],
   "source": []
  },
  {
   "cell_type": "code",
   "execution_count": null,
   "id": "bf562081",
   "metadata": {},
   "outputs": [],
   "source": []
  }
 ],
 "metadata": {
  "kernelspec": {
   "display_name": "myenv",
   "language": "python",
   "name": "python3"
  },
  "language_info": {
   "codemirror_mode": {
    "name": "ipython",
    "version": 3
   },
   "file_extension": ".py",
   "mimetype": "text/x-python",
   "name": "python",
   "nbconvert_exporter": "python",
   "pygments_lexer": "ipython3",
   "version": "3.11.3"
  }
 },
 "nbformat": 4,
 "nbformat_minor": 5
}
