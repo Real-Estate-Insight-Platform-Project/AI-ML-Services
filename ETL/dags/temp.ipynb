{
 "cells": [
  {
   "cell_type": "code",
   "execution_count": 1,
   "id": "353bc395",
   "metadata": {},
   "outputs": [],
   "source": [
    "import pandas as pd"
   ]
  },
  {
   "cell_type": "code",
   "execution_count": 2,
   "id": "9041c45f",
   "metadata": {},
   "outputs": [],
   "source": [
    "from get_supabase_data import get_supabase_data\n",
    "df = get_supabase_data() "
   ]
  },
  {
   "cell_type": "code",
   "execution_count": 3,
   "id": "19895d5b",
   "metadata": {},
   "outputs": [],
   "source": [
    "def train_model():\n",
    "    \"\"\"Load dataset, train model, save predictions to Supabase\"\"\"\n",
    "\n",
    "    # List of features to predict\n",
    "    features = [\n",
    "        \"median_listing_price\",\n",
    "        \"average_listing_price\",\n",
    "        \"median_listing_price_per_square_foot\",\n",
    "        \"total_listing_count\",\n",
    "        \"median_days_on_market\"\n",
    "    ]\n",
    "\n",
    "    from preprocessing_2 import preprocess_data_2\n",
    "    from model_trainer import get_predictions\n",
    "\n",
    "    target_df = preprocess_data_2(df.copy())\n",
    "    prediction_df = target_df.copy()\n",
    "\n",
    "    for feature in features:\n",
    "        predictions = get_predictions(df, feature)\n",
    "        prediction_df[feature] = predictions\n",
    "\n",
    "    for col in features:\n",
    "        if col in prediction_df.columns:\n",
    "            prediction_df[col] = prediction_df[col].astype(int)\n",
    "            \n",
    "    # Concatenate all predictions\n",
    "    return prediction_df"
   ]
  },
  {
   "cell_type": "code",
   "execution_count": 4,
   "id": "b15783bc",
   "metadata": {},
   "outputs": [
    {
     "name": "stdout",
     "output_type": "stream",
     "text": [
      "Validation RMSE: 5583.9434, RMSLE: 0.0110, MAE: 3986.7708, MAPE: 0.84%, R²: 0.9984\n"
     ]
    },
    {
     "name": "stderr",
     "output_type": "stream",
     "text": [
      "2025/09/17 00:14:33 WARNING mlflow.models.model: Model logged without a signature and input example. Please set `input_example` parameter when logging the model to auto infer the model signature.\n"
     ]
    },
    {
     "name": "stdout",
     "output_type": "stream",
     "text": [
      "[LightGBM] [Info] Auto-choosing col-wise multi-threading, the overhead of testing was 0.029717 seconds.\n",
      "You can set `force_col_wise=true` to remove the overhead.\n",
      "[LightGBM] [Info] Total Bins 250261\n",
      "[LightGBM] [Info] Number of data points in the train set: 3621, number of used features: 998\n",
      "[LightGBM] [Info] Start training from score 0.642702\n",
      "Validation RMSE: 5425.6451, RMSLE: 0.0103, MAE: 4036.3488, MAPE: 0.84%, R²: 0.9985\n"
     ]
    },
    {
     "name": "stderr",
     "output_type": "stream",
     "text": [
      "2025/09/17 00:14:43 WARNING mlflow.models.model: Model logged without a signature and input example. Please set `input_example` parameter when logging the model to auto infer the model signature.\n"
     ]
    },
    {
     "name": "stdout",
     "output_type": "stream",
     "text": [
      "Using LightGBM model for predictions\n",
      "[LightGBM] [Info] Auto-choosing col-wise multi-threading, the overhead of testing was 0.030815 seconds.\n",
      "You can set `force_col_wise=true` to remove the overhead.\n",
      "[LightGBM] [Info] Total Bins 250262\n",
      "[LightGBM] [Info] Number of data points in the train set: 3672, number of used features: 998\n",
      "[LightGBM] [Info] Start training from score 0.646784\n",
      "Validation RMSE: 13836.9599, RMSLE: 0.0158, MAE: 9541.9755, MAPE: 1.25%, R²: 0.9980\n"
     ]
    },
    {
     "name": "stderr",
     "output_type": "stream",
     "text": [
      "2025/09/17 00:15:01 WARNING mlflow.models.model: Model logged without a signature and input example. Please set `input_example` parameter when logging the model to auto infer the model signature.\n"
     ]
    },
    {
     "name": "stdout",
     "output_type": "stream",
     "text": [
      "[LightGBM] [Info] Auto-choosing col-wise multi-threading, the overhead of testing was 0.029069 seconds.\n",
      "You can set `force_col_wise=true` to remove the overhead.\n",
      "[LightGBM] [Info] Total Bins 250261\n",
      "[LightGBM] [Info] Number of data points in the train set: 3621, number of used features: 998\n",
      "[LightGBM] [Info] Start training from score 0.625476\n",
      "Validation RMSE: 14756.8745, RMSLE: 0.0165, MAE: 9433.0448, MAPE: 1.25%, R²: 0.9977\n"
     ]
    },
    {
     "name": "stderr",
     "output_type": "stream",
     "text": [
      "2025/09/17 00:15:09 WARNING mlflow.models.model: Model logged without a signature and input example. Please set `input_example` parameter when logging the model to auto infer the model signature.\n"
     ]
    },
    {
     "name": "stdout",
     "output_type": "stream",
     "text": [
      "Using XGBoost model for predictions\n",
      "Validation RMSE: 3.7910, RMSLE: 0.0108, MAE: 2.2269, MAPE: 0.77%, R²: 0.9987\n"
     ]
    },
    {
     "name": "stderr",
     "output_type": "stream",
     "text": [
      "2025/09/17 00:15:32 WARNING mlflow.models.model: Model logged without a signature and input example. Please set `input_example` parameter when logging the model to auto infer the model signature.\n"
     ]
    },
    {
     "name": "stdout",
     "output_type": "stream",
     "text": [
      "[LightGBM] [Info] Auto-choosing col-wise multi-threading, the overhead of testing was 0.028213 seconds.\n",
      "You can set `force_col_wise=true` to remove the overhead.\n",
      "[LightGBM] [Info] Total Bins 250265\n",
      "[LightGBM] [Info] Number of data points in the train set: 3621, number of used features: 998\n",
      "[LightGBM] [Info] Start training from score 0.657651\n",
      "Validation RMSE: 3.0127, RMSLE: 0.0092, MAE: 1.8183, MAPE: 0.67%, R²: 0.9992\n"
     ]
    },
    {
     "name": "stderr",
     "output_type": "stream",
     "text": [
      "2025/09/17 00:15:41 WARNING mlflow.models.model: Model logged without a signature and input example. Please set `input_example` parameter when logging the model to auto infer the model signature.\n"
     ]
    },
    {
     "name": "stdout",
     "output_type": "stream",
     "text": [
      "Using LightGBM model for predictions\n",
      "[LightGBM] [Info] Auto-choosing col-wise multi-threading, the overhead of testing was 0.030559 seconds.\n",
      "You can set `force_col_wise=true` to remove the overhead.\n",
      "[LightGBM] [Info] Total Bins 250266\n",
      "[LightGBM] [Info] Number of data points in the train set: 3672, number of used features: 998\n",
      "[LightGBM] [Info] Start training from score 0.661883\n",
      "Validation RMSE: 1158.1867, RMSLE: 0.0431, MAE: 729.7888, MAPE: 3.19%, R²: 0.9991\n"
     ]
    },
    {
     "name": "stderr",
     "output_type": "stream",
     "text": [
      "2025/09/17 00:15:58 WARNING mlflow.models.model: Model logged without a signature and input example. Please set `input_example` parameter when logging the model to auto infer the model signature.\n"
     ]
    },
    {
     "name": "stdout",
     "output_type": "stream",
     "text": [
      "[LightGBM] [Info] Auto-choosing col-wise multi-threading, the overhead of testing was 0.030956 seconds.\n",
      "You can set `force_col_wise=true` to remove the overhead.\n",
      "[LightGBM] [Info] Total Bins 250261\n",
      "[LightGBM] [Info] Number of data points in the train set: 3621, number of used features: 998\n",
      "[LightGBM] [Info] Start training from score 0.458487\n",
      "Validation RMSE: 1033.3721, RMSLE: 0.0382, MAE: 714.0625, MAPE: 3.10%, R²: 0.9993\n"
     ]
    },
    {
     "name": "stderr",
     "output_type": "stream",
     "text": [
      "2025/09/17 00:16:06 WARNING mlflow.models.model: Model logged without a signature and input example. Please set `input_example` parameter when logging the model to auto infer the model signature.\n"
     ]
    },
    {
     "name": "stdout",
     "output_type": "stream",
     "text": [
      "Using LightGBM model for predictions\n",
      "[LightGBM] [Info] Auto-choosing col-wise multi-threading, the overhead of testing was 0.028324 seconds.\n",
      "You can set `force_col_wise=true` to remove the overhead.\n",
      "[LightGBM] [Info] Total Bins 250262\n",
      "[LightGBM] [Info] Number of data points in the train set: 3672, number of used features: 998\n",
      "[LightGBM] [Info] Start training from score 0.462498\n",
      "Validation RMSE: 3.5281, RMSLE: 0.0614, MAE: 2.3037, MAPE: 4.16%, R²: 0.8958\n"
     ]
    },
    {
     "name": "stderr",
     "output_type": "stream",
     "text": [
      "2025/09/17 00:16:25 WARNING mlflow.models.model: Model logged without a signature and input example. Please set `input_example` parameter when logging the model to auto infer the model signature.\n"
     ]
    },
    {
     "name": "stdout",
     "output_type": "stream",
     "text": [
      "[LightGBM] [Info] Auto-choosing col-wise multi-threading, the overhead of testing was 0.030832 seconds.\n",
      "You can set `force_col_wise=true` to remove the overhead.\n",
      "[LightGBM] [Info] Total Bins 253997\n",
      "[LightGBM] [Info] Number of data points in the train set: 3621, number of used features: 998\n",
      "[LightGBM] [Info] Start training from score 0.501207\n",
      "Validation RMSE: 3.2603, RMSLE: 0.0544, MAE: 2.1094, MAPE: 3.76%, R²: 0.9110\n"
     ]
    },
    {
     "name": "stderr",
     "output_type": "stream",
     "text": [
      "2025/09/17 00:16:33 WARNING mlflow.models.model: Model logged without a signature and input example. Please set `input_example` parameter when logging the model to auto infer the model signature.\n"
     ]
    },
    {
     "name": "stdout",
     "output_type": "stream",
     "text": [
      "Using LightGBM model for predictions\n",
      "[LightGBM] [Info] Auto-choosing col-wise multi-threading, the overhead of testing was 0.029992 seconds.\n",
      "You can set `force_col_wise=true` to remove the overhead.\n",
      "[LightGBM] [Info] Total Bins 253997\n",
      "[LightGBM] [Info] Number of data points in the train set: 3672, number of used features: 998\n",
      "[LightGBM] [Info] Start training from score 0.500687\n"
     ]
    }
   ],
   "source": [
    "df2 = train_model()"
   ]
  },
  {
   "cell_type": "code",
   "execution_count": null,
   "id": "d4dea1a1",
   "metadata": {},
   "outputs": [],
   "source": []
  },
  {
   "cell_type": "code",
   "execution_count": null,
   "id": "55ddaccc",
   "metadata": {},
   "outputs": [],
   "source": []
  },
  {
   "cell_type": "code",
   "execution_count": null,
   "id": "1bed0636",
   "metadata": {},
   "outputs": [],
   "source": []
  },
  {
   "cell_type": "code",
   "execution_count": null,
   "metadata": {},
   "outputs": [],
   "source": []
  },
  {
   "cell_type": "code",
   "execution_count": null,
   "id": "28074792",
   "metadata": {},
   "outputs": [],
   "source": []
  },
  {
   "cell_type": "code",
   "execution_count": null,
   "id": "6eb01735",
   "metadata": {},
   "outputs": [],
   "source": []
  },
  {
   "cell_type": "code",
   "execution_count": null,
   "id": "cb47b7f9",
   "metadata": {},
   "outputs": [],
   "source": []
  },
  {
   "cell_type": "code",
   "execution_count": null,
   "id": "db48a868",
   "metadata": {},
   "outputs": [],
   "source": []
  },
  {
   "cell_type": "code",
   "execution_count": null,
   "id": "28c19d50",
   "metadata": {},
   "outputs": [],
   "source": []
  },
  {
   "cell_type": "code",
   "execution_count": null,
   "id": "edba3fc7",
   "metadata": {},
   "outputs": [],
   "source": []
  },
  {
   "cell_type": "code",
   "execution_count": null,
   "id": "ec71a058",
   "metadata": {},
   "outputs": [],
   "source": []
  },
  {
   "cell_type": "code",
   "execution_count": null,
   "id": "bf562081",
   "metadata": {},
   "outputs": [],
   "source": []
  }
 ],
 "metadata": {
  "kernelspec": {
   "display_name": "myenv",
   "language": "python",
   "name": "python3"
  },
  "language_info": {
   "codemirror_mode": {
    "name": "ipython",
    "version": 3
   },
   "file_extension": ".py",
   "mimetype": "text/x-python",
   "name": "python",
   "nbconvert_exporter": "python",
   "pygments_lexer": "ipython3",
   "version": "3.11.3"
  }
 },
 "nbformat": 4,
 "nbformat_minor": 5
}
