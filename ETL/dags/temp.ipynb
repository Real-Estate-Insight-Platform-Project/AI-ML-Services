{
 "cells": [
  {
   "cell_type": "code",
   "execution_count": null,
   "id": "13d78b8e",
   "metadata": {},
   "outputs": [],
   "source": [
    "import pandas as pd"
   ]
  },
  {
   "cell_type": "code",
   "execution_count": null,
   "id": "9133310f",
   "metadata": {},
   "outputs": [],
   "source": [
    "url = \"https://econdata.s3-us-west-2.amazonaws.com/Reports/Core/RDC_Inventory_Core_Metrics_State.csv\"\n",
    "df = pd.read_csv(url)\n",
    "df.to_csv(\"data1.csv\" , index=False)"
   ]
  },
  {
   "cell_type": "code",
   "execution_count": 8,
   "id": "9802673c",
   "metadata": {},
   "outputs": [
    {
     "name": "stderr",
     "output_type": "stream",
     "text": [
      "2025/09/17 01:50:44 INFO mlflow.tracking.fluent: Experiment with name 'RealEstate_forcasting' does not exist. Creating a new experiment.\n"
     ]
    }
   ],
   "source": [
    "\n",
    "import mlflow\n",
    "from pathlib import Path\n",
    "\n",
    "def get_project_root():\n",
    "    return Path().resolve().parent.parent\n",
    "\n",
    "mlflow.set_tracking_uri(uri=(get_project_root() / 'ETL' / 'dags' / 'mlruns').as_uri())\n",
    "experiment = mlflow.set_experiment(experiment_name=\"RealEstate_forcasting\")"
   ]
  },
  {
   "cell_type": "code",
   "execution_count": null,
   "id": "cce0eb50",
   "metadata": {},
   "outputs": [],
   "source": [
    "from supabase import create_client\n",
    "import os\n",
    "\n",
    "# Load environment variables\n",
    "from dotenv import load_dotenv\n",
    "load_dotenv()\n",
    "\n",
    "SUPABASE_URL = os.getenv(\"SUPABASE_URL\")\n",
    "SUPABASE_KEY = os.getenv(\"SUPABASE_SERVICE_ROLE_KEY\")\n",
    "\n",
    "df = pd.read_csv(\"data1.csv\")\n",
    "\n",
    "    # Preprocess data\n",
    "from preprocessing_1 import preprocess_data_1\n",
    "df = preprocess_data_1(df)\n",
    "\n",
    "    # Push preprocessed data to Supabase (state_market table)\n",
    "supabase = create_client(SUPABASE_URL, SUPABASE_KEY)\n",
    "# Check if data already exists (query row count)\n",
    "response = supabase.table(\"state_market\").select(\"*\", count=\"exact\").execute()\n",
    "if response.count == 0:\n",
    "    data_to_insert = df.to_dict('records')\n",
    "    supabase.table(\"state_market\").insert(data_to_insert).execute()\n",
    "else:\n",
    "    print(\"Data already exists in Supabase; skipping insertion.\")\n",
    "\n",
    "    # Load full dataset from Supabase\n",
    "from get_supabase_data import get_supabase_data\n",
    "df = get_supabase_data() \n",
    "\n",
    "df.to_csv(\"data1.csv\", index=False)"
   ]
  },
  {
   "cell_type": "code",
   "execution_count": null,
   "id": "9041c45f",
   "metadata": {},
   "outputs": [],
   "source": [
    "from get_supabase_data import get_supabase_data\n",
    "df = get_supabase_data() "
   ]
  },
  {
   "cell_type": "code",
   "execution_count": null,
   "id": "19895d5b",
   "metadata": {},
   "outputs": [],
   "source": [
    "def train_model():\n",
    "    \"\"\"Load dataset, train model, save predictions to Supabase\"\"\"\n",
    "\n",
    "    # List of features to predict\n",
    "    features = [\n",
    "        \"median_listing_price\",\n",
    "        \"average_listing_price\",\n",
    "        \"median_listing_price_per_square_foot\",\n",
    "        \"total_listing_count\",\n",
    "        \"median_days_on_market\"\n",
    "    ]\n",
    "\n",
    "    from preprocessing_2 import preprocess_data_2\n",
    "    from model_trainer import get_predictions\n",
    "\n",
    "    target_df = preprocess_data_2(df.copy())\n",
    "    prediction_df = target_df.copy()\n",
    "\n",
    "    for feature in features:\n",
    "        predictions = get_predictions(df, feature)\n",
    "        prediction_df[feature] = predictions\n",
    "\n",
    "    for col in features:\n",
    "        if col in prediction_df.columns:\n",
    "            prediction_df[col] = prediction_df[col].astype(int)\n",
    "            \n",
    "    # Concatenate all predictions\n",
    "    return prediction_df"
   ]
  },
  {
   "cell_type": "code",
   "execution_count": null,
   "id": "b15783bc",
   "metadata": {},
   "outputs": [],
   "source": [
    "df2 = train_model()"
   ]
  },
  {
   "cell_type": "code",
   "execution_count": null,
   "id": "d4dea1a1",
   "metadata": {},
   "outputs": [],
   "source": []
  },
  {
   "cell_type": "code",
   "execution_count": null,
   "id": "55ddaccc",
   "metadata": {},
   "outputs": [],
   "source": []
  },
  {
   "cell_type": "code",
   "execution_count": null,
   "id": "1bed0636",
   "metadata": {},
   "outputs": [],
   "source": []
  },
  {
   "cell_type": "code",
   "execution_count": null,
   "metadata": {},
   "outputs": [],
   "source": []
  },
  {
   "cell_type": "code",
   "execution_count": null,
   "id": "28074792",
   "metadata": {},
   "outputs": [],
   "source": []
  },
  {
   "cell_type": "code",
   "execution_count": null,
   "id": "6eb01735",
   "metadata": {},
   "outputs": [],
   "source": []
  },
  {
   "cell_type": "code",
   "execution_count": null,
   "id": "cb47b7f9",
   "metadata": {},
   "outputs": [],
   "source": []
  },
  {
   "cell_type": "code",
   "execution_count": null,
   "id": "db48a868",
   "metadata": {},
   "outputs": [],
   "source": []
  },
  {
   "cell_type": "code",
   "execution_count": null,
   "id": "28c19d50",
   "metadata": {},
   "outputs": [],
   "source": []
  },
  {
   "cell_type": "code",
   "execution_count": null,
   "id": "edba3fc7",
   "metadata": {},
   "outputs": [],
   "source": []
  },
  {
   "cell_type": "code",
   "execution_count": null,
   "id": "ec71a058",
   "metadata": {},
   "outputs": [],
   "source": []
  },
  {
   "cell_type": "code",
   "execution_count": null,
   "id": "bf562081",
   "metadata": {},
   "outputs": [],
   "source": []
  }
 ],
 "metadata": {
  "kernelspec": {
   "display_name": "myenv",
   "language": "python",
   "name": "python3"
  },
  "language_info": {
   "codemirror_mode": {
    "name": "ipython",
    "version": 3
   },
   "file_extension": ".py",
   "mimetype": "text/x-python",
   "name": "python",
   "nbconvert_exporter": "python",
   "pygments_lexer": "ipython3",
   "version": "3.11.3"
  }
 },
 "nbformat": 4,
 "nbformat_minor": 5
}
