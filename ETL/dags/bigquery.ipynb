{
 "cells": [
  {
   "cell_type": "code",
   "execution_count": null,
   "id": "c2b76019",
   "metadata": {},
   "outputs": [],
   "source": [
    "import os\n",
    "from google.cloud import bigquery\n",
    "\n",
    "os.environ['GOOGLE_APPLICATION_CREDENTIALS' ] = 'service_keys.json'\n",
    "\n",
    "client = bigquery. Client()"
   ]
  },
  {
   "cell_type": "code",
   "execution_count": null,
   "id": "a4360830",
   "metadata": {},
   "outputs": [],
   "source": [
    "from get_bq_data import get_bq_data\n",
    "\n",
    "existing_data = get_bq_data(client,\"county_market\") "
   ]
  },
  {
   "cell_type": "code",
   "execution_count": null,
   "id": "6effd56e",
   "metadata": {},
   "outputs": [],
   "source": []
  },
  {
   "cell_type": "code",
   "execution_count": null,
   "id": "5b762274",
   "metadata": {},
   "outputs": [],
   "source": []
  }
 ],
 "metadata": {
  "kernelspec": {
   "display_name": "myenv",
   "language": "python",
   "name": "python3"
  },
  "language_info": {
   "codemirror_mode": {
    "name": "ipython",
    "version": 3
   },
   "file_extension": ".py",
   "mimetype": "text/x-python",
   "name": "python",
   "nbconvert_exporter": "python",
   "pygments_lexer": "ipython3",
   "version": "3.11.3"
  }
 },
 "nbformat": 4,
 "nbformat_minor": 5
}
